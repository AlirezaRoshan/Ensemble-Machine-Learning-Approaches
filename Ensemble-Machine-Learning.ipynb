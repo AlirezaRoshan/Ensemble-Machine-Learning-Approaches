"""
# Ensemble Machine Learning Approaches to combine multiple other models in the prediction process for any application
# Copyright (C) 2023 Alireza Roshan
# This program is licensed under the GNU Affero General Public License v3.0.
# You should have received a copy of the license along with this program.
# If not, see <https://www.gnu.org/licenses/>.
"""
import numpy as np
import pandas as pd
from sklearn.model_selection import train_test_split
from sklearn.ensemble import RandomForestRegressor, GradientBoostingRegressor, AdaBoostRegressor
from xgboost import XGBRegressor
from catboost import CatBoostRegressor
from sklearn.linear_model import LinearRegression
from sklearn.metrics import mean_absolute_error, mean_squared_error, r2_score
from sklearn.ensemble import StackingRegressor

# Load sample data
df = pd.read_csv('sample_data.csv')

# Split the data into features and target variable
X = df.drop(columns=['target_column'])
y = df['target_column']

# Split the data into training and testing sets
X_train, X_test, y_train, y_test = train_test_split(X, y, test_size=0.30, random_state=42)

# List of regression algorithms
regression_algorithms = [
    RandomForestRegressor(n_estimators=100),
    GradientBoostingRegressor(n_estimators=100),
    AdaBoostRegressor(n_estimators=100),
    XGBRegressor(n_estimators=100),
    CatBoostRegressor(silent=True, n_estimators=100)
]

# Dictionary to store the evaluation results
evaluation_results = {
    "Algorithm": [],
    "MAE": [],
    "MSE": [],
    "R2": []
}

# Evaluate each algorithm
for algorithm in regression_algorithms:
    algorithm_name = algorithm.__class__.__name__
    algorithm.fit(X_train, y_train)
    y_pred = algorithm.predict(X_test)
    mae = mean_absolute_error(y_test, y_pred)
    mse = mean_squared_error(y_test, y_pred)
    r2 = r2_score(y_test, y_pred)
    
    evaluation_results["Algorithm"].append(algorithm_name)
    evaluation_results["MAE"].append(mae)
    evaluation_results["MSE"].append(mse)
    evaluation_results["R2"].append(r2)

# Create stacking model with Linear Regression as meta-learner
stacking_model = StackingRegressor(
    estimators=[(algorithm.__class__.__name__, algorithm) for algorithm in regression_algorithms],
    final_estimator=LinearRegression()
)

# Fit stacking model
stacking_model.fit(X_train, y_train)

# Predict using stacking model
stacked_test_predictions = stacking_model.predict(X_test)

# Calculate evaluation metrics for stacking model
stacking_mae = mean_absolute_error(y_test, stacked_test_predictions)
stacking_mse = mean_squared_error(y_test, stacked_test_predictions)
stacking_r2 = r2_score(y_test, stacked_test_predictions)

# Store stacking model results in evaluation results dictionary
evaluation_results["Algorithm"].append("Stacking")
evaluation_results["MAE"].append(stacking_mae)
evaluation_results["MSE"].append(stacking_mse)
evaluation_results["R2"].append(stacking_r2)

# Convert the evaluation results to a DataFrame
evaluation_df = pd.DataFrame(evaluation_results)

# Display the evaluation results
print(evaluation_df)
